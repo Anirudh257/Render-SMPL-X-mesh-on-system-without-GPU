{
 "cells": [
  {
   "cell_type": "markdown",
   "metadata": {},
   "source": [
    "# Read obj mesh and overlay on its corresponding RGB image"
   ]
  },
  {
   "cell_type": "markdown",
   "metadata": {},
   "source": [
    "## Import libraries"
   ]
  },
  {
   "cell_type": "code",
   "execution_count": 1,
   "metadata": {},
   "outputs": [],
   "source": [
    "import os\n",
    "os.chdir(\"smplify-x/smplifyx/\")"
   ]
  },
  {
   "cell_type": "code",
   "execution_count": 2,
   "metadata": {},
   "outputs": [],
   "source": [
    "from __future__ import absolute_import\n",
    "from __future__ import print_function\n",
    "from __future__ import division\n",
    "\n",
    "\n",
    "import time\n",
    "try:\n",
    "    import cPickle as pickle\n",
    "except ImportError:\n",
    "    import pickle\n",
    "\n",
    "import sys\n",
    "import os\n",
    "import os.path as osp\n",
    "\n",
    "import numpy as np\n",
    "import torch\n",
    "\n",
    "import trimesh\n",
    "import pyrender\n",
    "\n",
    "from tqdm import tqdm\n",
    "\n",
    "from collections import defaultdict\n",
    "\n",
    "import cv2\n",
    "import PIL.Image as pil_img"
   ]
  },
  {
   "cell_type": "code",
   "execution_count": 3,
   "metadata": {},
   "outputs": [],
   "source": [
    "os.chdir(\"../\")\n",
    "os.environ['QT_QPA_PLATFORM']='offscreen'"
   ]
  },
  {
   "cell_type": "markdown",
   "metadata": {},
   "source": [
    "## Read mesh and perform overlaying"
   ]
  },
  {
   "cell_type": "code",
   "execution_count": 4,
   "metadata": {},
   "outputs": [],
   "source": [
    "out_mesh = trimesh.load_mesh(\"output_folder_check/meshes/S001C002P002R002A043_rgb_frame_1/000.obj\")"
   ]
  },
  {
   "cell_type": "code",
   "execution_count": 5,
   "metadata": {},
   "outputs": [],
   "source": [
    "img = cv2.imread(\"data_folder_check/images/S001C002P002R002A043_rgb_frame_1.jpg\")"
   ]
  },
  {
   "cell_type": "markdown",
   "metadata": {},
   "source": [
    "## View the mesh"
   ]
  },
  {
   "cell_type": "code",
   "execution_count": 6,
   "metadata": {},
   "outputs": [],
   "source": [
    "class MeshViewer(object):\n",
    "\n",
    "    def __init__(self, width=1200, height=800,\n",
    "                 body_color=(1.0, 1.0, 0.9, 1.0),\n",
    "                 registered_keys=None):\n",
    "        super(MeshViewer, self).__init__()\n",
    "\n",
    "        if registered_keys is None:\n",
    "            registered_keys = dict()\n",
    "\n",
    "        import trimesh\n",
    "        import pyrender\n",
    "\n",
    "        self.mat_constructor = pyrender.MetallicRoughnessMaterial\n",
    "        self.mesh_constructor = trimesh.Trimesh\n",
    "        self.trimesh_to_pymesh = pyrender.Mesh.from_trimesh\n",
    "        self.transf = trimesh.transformations.rotation_matrix\n",
    "\n",
    "        self.body_color = body_color\n",
    "        self.scene = pyrender.Scene(bg_color=[0.0, 0.0, 0.0, 1.0],\n",
    "                                    ambient_light=(0.3, 0.3, 0.3))\n",
    "\n",
    "        pc = pyrender.PerspectiveCamera(yfov=np.pi / 3.0,\n",
    "                                        aspectRatio=float(width) / height)\n",
    "        camera_pose = np.eye(4)\n",
    "        camera_pose[:3, 3] = np.array([0, 0, 3])\n",
    "        self.scene.add(pc, pose=camera_pose)\n",
    "\n",
    "        self.viewer = pyrender.Viewer(self.scene, use_raymond_lighting=True,\n",
    "                                      viewport_size=(width, height),\n",
    "                                      cull_faces=False,\n",
    "                                      run_in_thread=True,\n",
    "                                      registered_keys=registered_keys)\n",
    "\n",
    "    def is_active(self):\n",
    "        return self.viewer.is_active\n",
    "\n",
    "    def close_viewer(self):\n",
    "        if self.viewer.is_active:\n",
    "            self.viewer.close_external()\n",
    "\n",
    "    def create_mesh(self, vertices, faces, color=(0.3, 0.3, 0.3, 1.0),\n",
    "                    wireframe=False):\n",
    "\n",
    "        material = self.mat_constructor(\n",
    "            metallicFactor=0.0,\n",
    "            alphaMode='BLEND',\n",
    "            baseColorFactor=color)\n",
    "\n",
    "        mesh = self.mesh_constructor(vertices, faces)\n",
    "\n",
    "        rot = self.transf(np.radians(180), [1, 0, 0])\n",
    "        mesh.apply_transform(rot)\n",
    "\n",
    "        return self.trimesh_to_pymesh(mesh, material=material)\n",
    "\n",
    "    def update_mesh(self, vertices, faces):\n",
    "        if not self.viewer.is_active:\n",
    "            return\n",
    "\n",
    "        self.viewer.render_lock.acquire()\n",
    "\n",
    "        for node in self.scene.get_nodes():\n",
    "            if node.name == 'body_mesh':\n",
    "                self.scene.remove_node(node)\n",
    "                break\n",
    "\n",
    "        body_mesh = self.create_mesh(\n",
    "            vertices, faces, color=self.body_color)\n",
    "        self.scene.add(body_mesh, name='body_mesh')\n",
    "\n",
    "        self.viewer.render_lock.release()\n"
   ]
  },
  {
   "cell_type": "code",
   "execution_count": 7,
   "metadata": {},
   "outputs": [],
   "source": [
    "out_img_fn = \"overlay.png\""
   ]
  },
  {
   "cell_type": "code",
   "execution_count": 8,
   "metadata": {},
   "outputs": [],
   "source": [
    "material = pyrender.MetallicRoughnessMaterial(\n",
    "    metallicFactor=0.0,\n",
    "    alphaMode='OPAQUE',\n",
    "    baseColorFactor=(1.0, 1.0, 0.9, 1.0))\n",
    "mesh = pyrender.Mesh.from_trimesh(\n",
    "    out_mesh,\n",
    "    material=material)\n",
    "\n",
    "scene = pyrender.Scene(bg_color=[0.0, 0.0, 0.0, 0.0],\n",
    "                       ambient_light=(0.3, 0.3, 0.3))\n",
    "scene.add(mesh, 'mesh')\n",
    "\n",
    "camera_center = np.array([960., 540.], dtype=np.float32)\n",
    "\n",
    "camera_transl = np.array([0.00559422, 0.4709179 , 4.6253934 ], dtype = np.float32)\n",
    "\n",
    "focal_length = 1500.0\n",
    "\n",
    "W = 1920\n",
    "H = 1080\n",
    "\n",
    "\n",
    "# Equivalent to 180 degrees around the y-axis. Transforms the fit to\n",
    "# OpenGL compatible coordinate system.\n",
    "camera_transl[0] *= -1.0\n",
    "\n",
    "camera_pose = np.eye(4)\n",
    "camera_pose[:3, 3] = camera_transl\n",
    "\n",
    "camera = pyrender.camera.IntrinsicsCamera(\n",
    "    fx=focal_length, fy=focal_length,\n",
    "    cx=camera_center[0], cy=camera_center[1])\n",
    "scene.add(camera, pose=camera_pose)\n",
    "\n",
    "mv = MeshViewer(body_color=(1.0, 1.0, 0.9, 1.0))\n",
    "\n",
    "# Add lights to the mesh viewer\n",
    "light_nodes = mv.viewer._create_raymond_lights()\n",
    "\n",
    "for node in light_nodes:\n",
    "    scene.add_node(node)"
   ]
  },
  {
   "cell_type": "code",
   "execution_count": 9,
   "metadata": {},
   "outputs": [],
   "source": [
    "r = pyrender.OffscreenRenderer(viewport_width=W,\n",
    "                               viewport_height=H,\n",
    "                               point_size=1.0)\n",
    "color, _ = r.render(scene, flags=pyrender.RenderFlags.RGBA)\n",
    "color = color.astype(np.float32) / 255.0\n",
    "\n",
    "valid_mask = (color[:, :, -1] > 0)[:, :, np.newaxis]\n",
    "input_img = img\n",
    "output_img = (color[:, :, :-1] * valid_mask +\n",
    "              (1 - valid_mask) * input_img)\n",
    "\n",
    "img = pil_img.fromarray((output_img * 255).astype(np.uint8))\n",
    "img.save(out_img_fn)"
   ]
  }
 ],
 "metadata": {
  "kernelspec": {
   "display_name": "Python 3",
   "language": "python",
   "name": "python3"
  },
  "language_info": {
   "codemirror_mode": {
    "name": "ipython",
    "version": 3
   },
   "file_extension": ".py",
   "mimetype": "text/x-python",
   "name": "python",
   "nbconvert_exporter": "python",
   "pygments_lexer": "ipython3",
   "version": "3.6.9"
  }
 },
 "nbformat": 4,
 "nbformat_minor": 4
}
